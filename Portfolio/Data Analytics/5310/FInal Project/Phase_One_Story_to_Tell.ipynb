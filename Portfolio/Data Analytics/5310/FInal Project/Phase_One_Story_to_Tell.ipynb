{
  "cells": [
    {
      "cell_type": "markdown",
      "metadata": {
        "id": "oEy3h-zCI2L6"
      },
      "source": [
        "# Database and Information System Characterising Objects in Space"
      ]
    },
    {
      "cell_type": "markdown",
      "metadata": {
        "id": "xeVfLZr7I4V4"
      },
      "source": [
        "[ESA DISCOS Website](https://discosweb.esoc.esa.int/)"
      ]
    },
    {
      "cell_type": "markdown",
      "metadata": {
        "id": "Kh8-rOdIJmEu"
      },
      "source": [
        "# Code"
      ]
    },
    {
      "cell_type": "markdown",
      "metadata": {
        "id": "_f-yOVHHJoDn"
      },
      "source": [
        "### Setting up python"
      ]
    },
    {
      "cell_type": "code",
      "execution_count": 5,
      "metadata": {
        "id": "-Pw0KGl9Jruu"
      },
      "outputs": [],
      "source": [
        "#calling pandas for data manipulation\n",
        "import pandas as pd\n",
        "import matplotlib.pyplot as plt\n",
        "import seaborn as sns\n",
        "#calling pprint and Request for API Calls\n",
        "from pprint import pprint\n",
        "import requests"
      ]
    },
    {
      "cell_type": "markdown",
      "metadata": {
        "id": "VezeP81JKKf8"
      },
      "source": [
        "API Setup info https://discosweb.esoc.esa.int/apidocs/v2"
      ]
    },
    {
      "cell_type": "markdown",
      "metadata": {
        "id": "WPdjS_ZcKTy0"
      },
      "source": [
        "### Setting up API Connection"
      ]
    },
    {
      "cell_type": "markdown",
      "metadata": {
        "id": "GS8EMswcDdG1"
      },
      "source": [
        "Test"
      ]
    },
    {
      "cell_type": "code",
      "execution_count": 2,
      "metadata": {
        "colab": {
          "base_uri": "https://localhost:8080/"
        },
        "id": "nZ5ZHvPLKSVU",
        "outputId": "0af8d781-230c-46ba-bf69-beb27139c54a"
      },
      "outputs": [
        {
          "name": "stdout",
          "output_type": "stream",
          "text": [
            "'everything okay'\n",
            "{'data': [{'type': 'object', 'attributes': {'xSectMax': 23.657, 'vimpelId': None, 'xSectAvg': 13.5615, 'name': 'Starlink 1118', 'diameter': None, 'depth': 1.5, 'mass': 260.0, 'span': 8.86, 'cosparId': '2020-001BB', 'satno': 44963, 'height': 0.1, 'width': 3.7, 'xSectMin': 0.2311, 'shape': 'Box + 1 Pan', 'objectClass': 'Payload'}, 'relationships': {'reentry': {'links': {'self': '/api/objects/62184/relationships/reentry', 'related': '/api/objects/62184/reentry'}}, 'operators': {'links': {'self': '/api/objects/62184/relationships/operators', 'related': '/api/objects/62184/operators'}}, 'launch': {'links': {'self': '/api/objects/62184/relationships/launch', 'related': '/api/objects/62184/launch'}}, 'destinationOrbits': {'links': {'self': '/api/objects/62184/relationships/destination-orbits', 'related': '/api/objects/62184/destination-orbits'}}, 'initialOrbits': {'links': {'self': '/api/objects/62184/relationships/initial-orbits', 'related': '/api/objects/62184/initial-orbits'}}, 'states': {'links': {'self': '/api/objects/62184/relationships/states', 'related': '/api/objects/62184/states'}}}, 'id': '62184', 'links': {'self': '/api/objects/62184'}}, {'type': 'object', 'attributes': {'xSectMax': 0.0173205080756888, 'vimpelId': None, 'xSectAvg': 0.015, 'name': '3Cat-1', 'diameter': None, 'depth': 0.1, 'mass': 1.0, 'span': 0.1, 'cosparId': '2018-096K', 'satno': 43728, 'height': 0.1, 'width': 0.1, 'xSectMin': 0.01, 'shape': 'Box', 'objectClass': 'Payload'}, 'relationships': {'reentry': {'links': {'self': '/api/objects/57452/relationships/reentry', 'related': '/api/objects/57452/reentry'}}, 'operators': {'links': {'self': '/api/objects/57452/relationships/operators', 'related': '/api/objects/57452/operators'}}, 'launch': {'links': {'self': '/api/objects/57452/relationships/launch', 'related': '/api/objects/57452/launch'}}, 'destinationOrbits': {'links': {'self': '/api/objects/57452/relationships/destination-orbits', 'related': '/api/objects/57452/destination-orbits'}}, 'initialOrbits': {'links': {'self': '/api/objects/57452/relationships/initial-orbits', 'related': '/api/objects/57452/initial-orbits'}}, 'states': {'links': {'self': '/api/objects/57452/relationships/states', 'related': '/api/objects/57452/states'}}}, 'id': '57452', 'links': {'self': '/api/objects/57452'}}, {'type': 'object', 'attributes': {'xSectMax': 0.833217649387874, 'vimpelId': None, 'xSectAvg': 0.514333333333333, 'name': 'Lawkanat 1', 'diameter': None, 'depth': 0.5, 'mass': 50.0, 'span': 1.5, 'cosparId': '1998-067SJ', 'satno': 47976, 'height': 0.5, 'width': 0.5, 'xSectMin': 0.25, 'shape': 'Box + 2 Pan', 'objectClass': 'Payload'}, 'relationships': {'reentry': {'links': {'self': '/api/objects/66563/relationships/reentry', 'related': '/api/objects/66563/reentry'}}, 'operators': {'links': {'self': '/api/objects/66563/relationships/operators', 'related': '/api/objects/66563/operators'}}, 'launch': {'links': {'self': '/api/objects/66563/relationships/launch', 'related': '/api/objects/66563/launch'}}, 'destinationOrbits': {'links': {'self': '/api/objects/66563/relationships/destination-orbits', 'related': '/api/objects/66563/destination-orbits'}}, 'initialOrbits': {'links': {'self': '/api/objects/66563/relationships/initial-orbits', 'related': '/api/objects/66563/initial-orbits'}}, 'states': {'links': {'self': '/api/objects/66563/relationships/states', 'related': '/api/objects/66563/states'}}}, 'id': '66563', 'links': {'self': '/api/objects/66563'}}, {'type': 'object', 'attributes': {'xSectMax': 0.0075, 'vimpelId': None, 'xSectAvg': 0.00625, 'name': 'General San Martin', 'diameter': None, 'depth': 0.05, 'mass': 0.5, 'span': 0.1, 'cosparId': '2022-002CT', 'satno': 51073, 'height': 0.1, 'width': 0.05, 'xSectMin': 0.0025, 'shape': 'Box + 2 Pan', 'objectClass': 'Payload'}, 'relationships': {'reentry': {'links': {'self': '/api/objects/70343/relationships/reentry', 'related': '/api/objects/70343/reentry'}}, 'operators': {'links': {'self': '/api/objects/70343/relationships/operators', 'related': '/api/objects/70343/operators'}}, 'launch': {'links': {'self': '/api/objects/70343/relationships/launch', 'related': '/api/objects/70343/launch'}}, 'destinationOrbits': {'links': {'self': '/api/objects/70343/relationships/destination-orbits', 'related': '/api/objects/70343/destination-orbits'}}, 'initialOrbits': {'links': {'self': '/api/objects/70343/relationships/initial-orbits', 'related': '/api/objects/70343/initial-orbits'}}, 'states': {'links': {'self': '/api/objects/70343/relationships/states', 'related': '/api/objects/70343/states'}}}, 'id': '70343', 'links': {'self': '/api/objects/70343'}}, {'type': 'object', 'attributes': {'xSectMax': 72.3320567910571, 'vimpelId': None, 'xSectAvg': 28.1905333333333, 'name': 'Starlink 30062', 'diameter': None, 'depth': 4.1, 'mass': 750.0, 'span': 21.0, 'cosparId': '2023-026W', 'satno': 55715, 'height': 0.3, 'width': 4.1, 'xSectMin': 1.23, 'shape': 'Box + 2 Pan', 'objectClass': 'Payload'}, 'relationships': {'reentry': {'links': {'self': '/api/objects/76759/relationships/reentry', 'related': '/api/objects/76759/reentry'}}, 'operators': {'links': {'self': '/api/objects/76759/relationships/operators', 'related': '/api/objects/76759/operators'}}, 'launch': {'links': {'self': '/api/objects/76759/relationships/launch', 'related': '/api/objects/76759/launch'}}, 'destinationOrbits': {'links': {'self': '/api/objects/76759/relationships/destination-orbits', 'related': '/api/objects/76759/destination-orbits'}}, 'initialOrbits': {'links': {'self': '/api/objects/76759/relationships/initial-orbits', 'related': '/api/objects/76759/initial-orbits'}}, 'states': {'links': {'self': '/api/objects/76759/relationships/states', 'related': '/api/objects/76759/states'}}}, 'id': '76759', 'links': {'self': '/api/objects/76759'}}, {'type': 'object', 'attributes': {'xSectMax': 27.5921076312379, 'vimpelId': None, 'xSectAvg': 11.0874666666667, 'name': 'USA 322', 'diameter': None, 'depth': 2.8, 'mass': 300.0, 'span': 9.0, 'cosparId': '2022-002CY', 'satno': 51078, 'height': 0.2, 'width': 2.8, 'xSectMin': 0.56, 'shape': 'Box + 1 Pan', 'objectClass': 'Payload'}, 'relationships': {'reentry': {'links': {'self': '/api/objects/70345/relationships/reentry', 'related': '/api/objects/70345/reentry'}}, 'operators': {'links': {'self': '/api/objects/70345/relationships/operators', 'related': '/api/objects/70345/operators'}}, 'launch': {'links': {'self': '/api/objects/70345/relationships/launch', 'related': '/api/objects/70345/launch'}}, 'destinationOrbits': {'links': {'self': '/api/objects/70345/relationships/destination-orbits', 'related': '/api/objects/70345/destination-orbits'}}, 'initialOrbits': {'links': {'self': '/api/objects/70345/relationships/initial-orbits', 'related': '/api/objects/70345/initial-orbits'}}, 'states': {'links': {'self': '/api/objects/70345/relationships/states', 'related': '/api/objects/70345/states'}}}, 'id': '70345', 'links': {'self': '/api/objects/70345'}}, {'type': 'object', 'attributes': {'xSectMax': 27.5921076312379, 'vimpelId': None, 'xSectAvg': 11.0874666666667, 'name': 'USA 323', 'diameter': None, 'depth': 2.8, 'mass': 300.0, 'span': 9.0, 'cosparId': '2022-002CZ', 'satno': 51079, 'height': 0.2, 'width': 2.8, 'xSectMin': 0.56, 'shape': 'Box + 1 Pan', 'objectClass': 'Payload'}, 'relationships': {'reentry': {'links': {'self': '/api/objects/70346/relationships/reentry', 'related': '/api/objects/70346/reentry'}}, 'operators': {'links': {'self': '/api/objects/70346/relationships/operators', 'related': '/api/objects/70346/operators'}}, 'launch': {'links': {'self': '/api/objects/70346/relationships/launch', 'related': '/api/objects/70346/launch'}}, 'destinationOrbits': {'links': {'self': '/api/objects/70346/relationships/destination-orbits', 'related': '/api/objects/70346/destination-orbits'}}, 'initialOrbits': {'links': {'self': '/api/objects/70346/relationships/initial-orbits', 'related': '/api/objects/70346/initial-orbits'}}, 'states': {'links': {'self': '/api/objects/70346/relationships/states', 'related': '/api/objects/70346/states'}}}, 'id': '70346', 'links': {'self': '/api/objects/70346'}}, {'type': 'object', 'attributes': {'xSectMax': 27.5921076312379, 'vimpelId': None, 'xSectAvg': 11.0874666666667, 'name': 'USA 321', 'diameter': None, 'depth': 2.8, 'mass': 300.0, 'span': 9.0, 'cosparId': '2022-002CX', 'satno': 51077, 'height': 0.2, 'width': 2.8, 'xSectMin': 0.56, 'shape': 'Box + 1 Pan', 'objectClass': 'Payload'}, 'relationships': {'reentry': {'links': {'self': '/api/objects/70344/relationships/reentry', 'related': '/api/objects/70344/reentry'}}, 'operators': {'links': {'self': '/api/objects/70344/relationships/operators', 'related': '/api/objects/70344/operators'}}, 'launch': {'links': {'self': '/api/objects/70344/relationships/launch', 'related': '/api/objects/70344/launch'}}, 'destinationOrbits': {'links': {'self': '/api/objects/70344/relationships/destination-orbits', 'related': '/api/objects/70344/destination-orbits'}}, 'initialOrbits': {'links': {'self': '/api/objects/70344/relationships/initial-orbits', 'related': '/api/objects/70344/initial-orbits'}}, 'states': {'links': {'self': '/api/objects/70344/relationships/states', 'related': '/api/objects/70344/states'}}}, 'id': '70344', 'links': {'self': '/api/objects/70344'}}, {'type': 'object', 'attributes': {'xSectMax': 0.0435889894354067, 'vimpelId': None, 'xSectAvg': 0.035, 'name': 'CLICK A', 'diameter': None, 'depth': 0.1, 'mass': 5.0, 'span': 0.3, 'cosparId': '1998-067UG', 'satno': 53769, 'height': 0.3, 'width': 0.1, 'xSectMin': 0.01, 'shape': 'Box', 'objectClass': 'Payload'}, 'relationships': {'reentry': {'links': {'self': '/api/objects/73655/relationships/reentry', 'related': '/api/objects/73655/reentry'}}, 'operators': {'links': {'self': '/api/objects/73655/relationships/operators', 'related': '/api/objects/73655/operators'}}, 'launch': {'links': {'self': '/api/objects/73655/relationships/launch', 'related': '/api/objects/73655/launch'}}, 'destinationOrbits': {'links': {'self': '/api/objects/73655/relationships/destination-orbits', 'related': '/api/objects/73655/destination-orbits'}}, 'initialOrbits': {'links': {'self': '/api/objects/73655/relationships/initial-orbits', 'related': '/api/objects/73655/initial-orbits'}}, 'states': {'links': {'self': '/api/objects/73655/relationships/states', 'related': '/api/objects/73655/states'}}}, 'id': '73655', 'links': {'self': '/api/objects/73655'}}, {'type': 'object', 'attributes': {'xSectMax': 0.0435889894354067, 'vimpelId': None, 'xSectAvg': 0.035, 'name': 'Foresail-1', 'diameter': None, 'depth': 0.1, 'mass': 4.0, 'span': 0.3, 'cosparId': '2022-057BC', 'satno': 52781, 'height': 0.3, 'width': 0.1, 'xSectMin': 0.01, 'shape': 'Box', 'objectClass': 'Payload'}, 'relationships': {'reentry': {'links': {'self': '/api/objects/75244/relationships/reentry', 'related': '/api/objects/75244/reentry'}}, 'operators': {'links': {'self': '/api/objects/75244/relationships/operators', 'related': '/api/objects/75244/operators'}}, 'launch': {'links': {'self': '/api/objects/75244/relationships/launch', 'related': '/api/objects/75244/launch'}}, 'destinationOrbits': {'links': {'self': '/api/objects/75244/relationships/destination-orbits', 'related': '/api/objects/75244/destination-orbits'}}, 'initialOrbits': {'links': {'self': '/api/objects/75244/relationships/initial-orbits', 'related': '/api/objects/75244/initial-orbits'}}, 'states': {'links': {'self': '/api/objects/75244/relationships/states', 'related': '/api/objects/75244/states'}}}, 'id': '75244', 'links': {'self': '/api/objects/75244'}}, {'type': 'object', 'attributes': {'xSectMax': 0.0281, 'vimpelId': None, 'xSectAvg': 0.0156, 'name': 'SpaceBEE 99', 'diameter': None, 'depth': 0.1, 'mass': 0.284, 'span': 0.9, 'cosparId': '2021-059BK', 'satno': 48936, 'height': 0.025, 'width': 0.1, 'xSectMin': 0.0095, 'shape': 'Box + 2 Ant', 'objectClass': 'Payload'}, 'relationships': {'reentry': {'links': {'self': '/api/objects/67703/relationships/reentry', 'related': '/api/objects/67703/reentry'}}, 'operators': {'links': {'self': '/api/objects/67703/relationships/operators', 'related': '/api/objects/67703/operators'}}, 'launch': {'links': {'self': '/api/objects/67703/relationships/launch', 'related': '/api/objects/67703/launch'}}, 'destinationOrbits': {'links': {'self': '/api/objects/67703/relationships/destination-orbits', 'related': '/api/objects/67703/destination-orbits'}}, 'initialOrbits': {'links': {'self': '/api/objects/67703/relationships/initial-orbits', 'related': '/api/objects/67703/initial-orbits'}}, 'states': {'links': {'self': '/api/objects/67703/relationships/states', 'related': '/api/objects/67703/states'}}}, 'id': '67703', 'links': {'self': '/api/objects/67703'}}, {'type': 'object', 'attributes': {'xSectMax': 0.1911, 'vimpelId': None, 'xSectAvg': 0.1076, 'name': 'Flock 3p-74', 'diameter': None, 'depth': 0.1, 'mass': 4.7, 'span': 0.3, 'cosparId': '2017-008DE', 'satno': 42048, 'height': 0.3, 'width': 0.1, 'xSectMin': 0.018, 'shape': 'Box + 2 Pan', 'objectClass': 'Payload'}, 'relationships': {'reentry': {'links': {'self': '/api/objects/44960/relationships/reentry', 'related': '/api/objects/44960/reentry'}}, 'operators': {'links': {'self': '/api/objects/44960/relationships/operators', 'related': '/api/objects/44960/operators'}}, 'launch': {'links': {'self': '/api/objects/44960/relationships/launch', 'related': '/api/objects/44960/launch'}}, 'destinationOrbits': {'links': {'self': '/api/objects/44960/relationships/destination-orbits', 'related': '/api/objects/44960/destination-orbits'}}, 'initialOrbits': {'links': {'self': '/api/objects/44960/relationships/initial-orbits', 'related': '/api/objects/44960/initial-orbits'}}, 'states': {'links': {'self': '/api/objects/44960/relationships/states', 'related': '/api/objects/44960/states'}}}, 'id': '44960', 'links': {'self': '/api/objects/44960'}}, {'type': 'object', 'attributes': {'xSectMax': 0.0489897948556636, 'vimpelId': None, 'xSectAvg': 0.04, 'name': 'Zhineng hao shouji weixing', 'diameter': None, 'depth': 0.2, 'mass': 1.0, 'span': 0.2, 'cosparId': '2015-049B', 'satno': 40900, 'height': 0.2, 'width': 0.1, 'xSectMin': 0.02, 'shape': 'Box', 'objectClass': 'Payload'}, 'relationships': {'reentry': {'links': {'self': '/api/objects/40897/relationships/reentry', 'related': '/api/objects/40897/reentry'}}, 'operators': {'links': {'self': '/api/objects/40897/relationships/operators', 'related': '/api/objects/40897/operators'}}, 'launch': {'links': {'self': '/api/objects/40897/relationships/launch', 'related': '/api/objects/40897/launch'}}, 'destinationOrbits': {'links': {'self': '/api/objects/40897/relationships/destination-orbits', 'related': '/api/objects/40897/destination-orbits'}}, 'initialOrbits': {'links': {'self': '/api/objects/40897/relationships/initial-orbits', 'related': '/api/objects/40897/initial-orbits'}}, 'states': {'links': {'self': '/api/objects/40897/relationships/states', 'related': '/api/objects/40897/states'}}}, 'id': '40897', 'links': {'self': '/api/objects/40897'}}, {'type': 'object', 'attributes': {'xSectMax': 1.55025995776373, 'vimpelId': None, 'xSectAvg': 0.899666666666667, 'name': 'Tianxing-1', 'diameter': None, 'depth': 0.5, 'mass': 200.0, 'span': 3.0, 'cosparId': '2022-066A', 'satno': 52901, 'height': 1.0, 'width': 0.5, 'xSectMin': 0.25, 'shape': 'Box + 1 Pan', 'objectClass': 'Payload'}, 'relationships': {'reentry': {'links': {'self': '/api/objects/72538/relationships/reentry', 'related': '/api/objects/72538/reentry'}}, 'operators': {'links': {'self': '/api/objects/72538/relationships/operators', 'related': '/api/objects/72538/operators'}}, 'launch': {'links': {'self': '/api/objects/72538/relationships/launch', 'related': '/api/objects/72538/launch'}}, 'destinationOrbits': {'links': {'self': '/api/objects/72538/relationships/destination-orbits', 'related': '/api/objects/72538/destination-orbits'}}, 'initialOrbits': {'links': {'self': '/api/objects/72538/relationships/initial-orbits', 'related': '/api/objects/72538/initial-orbits'}}, 'states': {'links': {'self': '/api/objects/72538/relationships/states', 'related': '/api/objects/72538/states'}}}, 'id': '72538', 'links': {'self': '/api/objects/72538'}}, {'type': 'object', 'attributes': {'xSectMax': 0.1911, 'vimpelId': None, 'xSectAvg': 0.1076, 'name': 'Flock 3m-2', 'diameter': None, 'depth': 0.1, 'mass': 4.7, 'span': 0.3, 'cosparId': '2017-068M', 'satno': 42998, 'height': 0.3, 'width': 0.1, 'xSectMin': 0.018, 'shape': 'Box + 2 Pan', 'objectClass': 'Payload'}, 'relationships': {'reentry': {'links': {'self': '/api/objects/47444/relationships/reentry', 'related': '/api/objects/47444/reentry'}}, 'operators': {'links': {'self': '/api/objects/47444/relationships/operators', 'related': '/api/objects/47444/operators'}}, 'launch': {'links': {'self': '/api/objects/47444/relationships/launch', 'related': '/api/objects/47444/launch'}}, 'destinationOrbits': {'links': {'self': '/api/objects/47444/relationships/destination-orbits', 'related': '/api/objects/47444/destination-orbits'}}, 'initialOrbits': {'links': {'self': '/api/objects/47444/relationships/initial-orbits', 'related': '/api/objects/47444/initial-orbits'}}, 'states': {'links': {'self': '/api/objects/47444/relationships/states', 'related': '/api/objects/47444/states'}}}, 'id': '47444', 'links': {'self': '/api/objects/47444'}}, {'type': 'object', 'attributes': {'xSectMax': 39.1493196825872, 'vimpelId': None, 'xSectAvg': 25.3440524641846, 'name': 'Soyuz MS-22', 'diameter': 2.7, 'depth': None, 'mass': 7218.0, 'span': 10.6, 'cosparId': '2022-116A', 'satno': 53879, 'height': 7.9, 'width': None, 'xSectMin': 5.7255526111674, 'shape': 'Cyl + Cone + Sphere + 2 Pan', 'objectClass': 'Payload'}, 'relationships': {'reentry': {'links': {'self': '/api/objects/73825/relationships/reentry', 'related': '/api/objects/73825/reentry'}}, 'operators': {'links': {'self': '/api/objects/73825/relationships/operators', 'related': '/api/objects/73825/operators'}}, 'launch': {'links': {'self': '/api/objects/73825/relationships/launch', 'related': '/api/objects/73825/launch'}}, 'destinationOrbits': {'links': {'self': '/api/objects/73825/relationships/destination-orbits', 'related': '/api/objects/73825/destination-orbits'}}, 'initialOrbits': {'links': {'self': '/api/objects/73825/relationships/initial-orbits', 'related': '/api/objects/73825/initial-orbits'}}, 'states': {'links': {'self': '/api/objects/73825/relationships/states', 'related': '/api/objects/73825/states'}}}, 'id': '73825', 'links': {'self': '/api/objects/73825'}}, {'type': 'object', 'attributes': {'xSectMax': 0.0281, 'vimpelId': None, 'xSectAvg': 0.0156, 'name': 'SpaceBEE 97', 'diameter': None, 'depth': 0.1, 'mass': 0.284, 'span': 0.9, 'cosparId': '2021-059BV', 'satno': 48946, 'height': 0.025, 'width': 0.1, 'xSectMin': 0.0095, 'shape': 'Box + 2 Ant', 'objectClass': 'Payload'}, 'relationships': {'reentry': {'links': {'self': '/api/objects/67708/relationships/reentry', 'related': '/api/objects/67708/reentry'}}, 'operators': {'links': {'self': '/api/objects/67708/relationships/operators', 'related': '/api/objects/67708/operators'}}, 'launch': {'links': {'self': '/api/objects/67708/relationships/launch', 'related': '/api/objects/67708/launch'}}, 'destinationOrbits': {'links': {'self': '/api/objects/67708/relationships/destination-orbits', 'related': '/api/objects/67708/destination-orbits'}}, 'initialOrbits': {'links': {'self': '/api/objects/67708/relationships/initial-orbits', 'related': '/api/objects/67708/initial-orbits'}}, 'states': {'links': {'self': '/api/objects/67708/relationships/states', 'related': '/api/objects/67708/states'}}}, 'id': '67708', 'links': {'self': '/api/objects/67708'}}, {'type': 'object', 'attributes': {'xSectMax': 0.0281, 'vimpelId': None, 'xSectAvg': 0.0156, 'name': 'SpaceBEE 98', 'diameter': None, 'depth': 0.1, 'mass': 0.284, 'span': 0.9, 'cosparId': '2021-059BY', 'satno': 48949, 'height': 0.025, 'width': 0.1, 'xSectMin': 0.0095, 'shape': 'Box + 2 Ant', 'objectClass': 'Payload'}, 'relationships': {'reentry': {'links': {'self': '/api/objects/67707/relationships/reentry', 'related': '/api/objects/67707/reentry'}}, 'operators': {'links': {'self': '/api/objects/67707/relationships/operators', 'related': '/api/objects/67707/operators'}}, 'launch': {'links': {'self': '/api/objects/67707/relationships/launch', 'related': '/api/objects/67707/launch'}}, 'destinationOrbits': {'links': {'self': '/api/objects/67707/relationships/destination-orbits', 'related': '/api/objects/67707/destination-orbits'}}, 'initialOrbits': {'links': {'self': '/api/objects/67707/relationships/initial-orbits', 'related': '/api/objects/67707/initial-orbits'}}, 'states': {'links': {'self': '/api/objects/67707/relationships/states', 'related': '/api/objects/67707/states'}}}, 'id': '67707', 'links': {'self': '/api/objects/67707'}}, {'type': 'object', 'attributes': {'xSectMax': 0.0281, 'vimpelId': None, 'xSectAvg': 0.0156, 'name': 'SpaceBEE 10', 'diameter': None, 'depth': 0.1, 'mass': 0.284, 'span': 0.9, 'cosparId': '2020-061AK', 'satno': 46305, 'height': 0.025, 'width': 0.1, 'xSectMin': 0.0095, 'shape': 'Box + 2 Ant', 'objectClass': 'Payload'}, 'relationships': {'reentry': {'links': {'self': '/api/objects/64517/relationships/reentry', 'related': '/api/objects/64517/reentry'}}, 'operators': {'links': {'self': '/api/objects/64517/relationships/operators', 'related': '/api/objects/64517/operators'}}, 'launch': {'links': {'self': '/api/objects/64517/relationships/launch', 'related': '/api/objects/64517/launch'}}, 'destinationOrbits': {'links': {'self': '/api/objects/64517/relationships/destination-orbits', 'related': '/api/objects/64517/destination-orbits'}}, 'initialOrbits': {'links': {'self': '/api/objects/64517/relationships/initial-orbits', 'related': '/api/objects/64517/initial-orbits'}}, 'states': {'links': {'self': '/api/objects/64517/relationships/states', 'related': '/api/objects/64517/states'}}}, 'id': '64517', 'links': {'self': '/api/objects/64517'}}, {'type': 'object', 'attributes': {'xSectMax': 0.1911, 'vimpelId': None, 'xSectAvg': 0.1076, 'name': 'Flock 2p-3', 'diameter': None, 'depth': 0.1, 'mass': 4.7, 'span': 0.3, 'cosparId': '2016-040V', 'satno': 41618, 'height': 0.3, 'width': 0.1, 'xSectMin': 0.018, 'shape': 'Box + 2 Pan', 'objectClass': 'Payload'}, 'relationships': {'reentry': {'links': {'self': '/api/objects/41615/relationships/reentry', 'related': '/api/objects/41615/reentry'}}, 'operators': {'links': {'self': '/api/objects/41615/relationships/operators', 'related': '/api/objects/41615/operators'}}, 'launch': {'links': {'self': '/api/objects/41615/relationships/launch', 'related': '/api/objects/41615/launch'}}, 'destinationOrbits': {'links': {'self': '/api/objects/41615/relationships/destination-orbits', 'related': '/api/objects/41615/destination-orbits'}}, 'initialOrbits': {'links': {'self': '/api/objects/41615/relationships/initial-orbits', 'related': '/api/objects/41615/initial-orbits'}}, 'states': {'links': {'self': '/api/objects/41615/relationships/states', 'related': '/api/objects/41615/states'}}}, 'id': '41615', 'links': {'self': '/api/objects/41615'}}, {'type': 'object', 'attributes': {'xSectMax': 0.1911, 'vimpelId': None, 'xSectAvg': 0.1076, 'name': \"Flock 3p'-1\", 'diameter': None, 'depth': 0.1, 'mass': 4.7, 'span': 0.3, 'cosparId': '2018-004L', 'satno': 43121, 'height': 0.3, 'width': 0.1, 'xSectMin': 0.018, 'shape': 'Box + 2 Pan', 'objectClass': 'Payload'}, 'relationships': {'reentry': {'links': {'self': '/api/objects/47795/relationships/reentry', 'related': '/api/objects/47795/reentry'}}, 'operators': {'links': {'self': '/api/objects/47795/relationships/operators', 'related': '/api/objects/47795/operators'}}, 'launch': {'links': {'self': '/api/objects/47795/relationships/launch', 'related': '/api/objects/47795/launch'}}, 'destinationOrbits': {'links': {'self': '/api/objects/47795/relationships/destination-orbits', 'related': '/api/objects/47795/destination-orbits'}}, 'initialOrbits': {'links': {'self': '/api/objects/47795/relationships/initial-orbits', 'related': '/api/objects/47795/initial-orbits'}}, 'states': {'links': {'self': '/api/objects/47795/relationships/states', 'related': '/api/objects/47795/states'}}}, 'id': '47795', 'links': {'self': '/api/objects/47795'}}, {'type': 'object', 'attributes': {'xSectMax': 0.0281, 'vimpelId': None, 'xSectAvg': 0.0156, 'name': 'SpaceBEE NZ-4', 'diameter': None, 'depth': 0.1, 'mass': 0.284, 'span': 0.9, 'cosparId': '2020-085L', 'satno': 46939, 'height': 0.025, 'width': 0.1, 'xSectMin': 0.0095, 'shape': 'Box + 2 Ant', 'objectClass': 'Payload'}, 'relationships': {'reentry': {'links': {'self': '/api/objects/65243/relationships/reentry', 'related': '/api/objects/65243/reentry'}}, 'operators': {'links': {'self': '/api/objects/65243/relationships/operators', 'related': '/api/objects/65243/operators'}}, 'launch': {'links': {'self': '/api/objects/65243/relationships/launch', 'related': '/api/objects/65243/launch'}}, 'destinationOrbits': {'links': {'self': '/api/objects/65243/relationships/destination-orbits', 'related': '/api/objects/65243/destination-orbits'}}, 'initialOrbits': {'links': {'self': '/api/objects/65243/relationships/initial-orbits', 'related': '/api/objects/65243/initial-orbits'}}, 'states': {'links': {'self': '/api/objects/65243/relationships/states', 'related': '/api/objects/65243/states'}}}, 'id': '65243', 'links': {'self': '/api/objects/65243'}}, {'type': 'object', 'attributes': {'xSectMax': 0.1911, 'vimpelId': None, 'xSectAvg': 0.1076, 'name': 'Flock 2p-8', 'diameter': None, 'depth': 0.1, 'mass': 4.7, 'span': 0.3, 'cosparId': '2016-040Q', 'satno': 41613, 'height': 0.3, 'width': 0.1, 'xSectMin': 0.018, 'shape': 'Box + 2 Pan', 'objectClass': 'Payload'}, 'relationships': {'reentry': {'links': {'self': '/api/objects/41610/relationships/reentry', 'related': '/api/objects/41610/reentry'}}, 'operators': {'links': {'self': '/api/objects/41610/relationships/operators', 'related': '/api/objects/41610/operators'}}, 'launch': {'links': {'self': '/api/objects/41610/relationships/launch', 'related': '/api/objects/41610/launch'}}, 'destinationOrbits': {'links': {'self': '/api/objects/41610/relationships/destination-orbits', 'related': '/api/objects/41610/destination-orbits'}}, 'initialOrbits': {'links': {'self': '/api/objects/41610/relationships/initial-orbits', 'related': '/api/objects/41610/initial-orbits'}}, 'states': {'links': {'self': '/api/objects/41610/relationships/states', 'related': '/api/objects/41610/states'}}}, 'id': '41610', 'links': {'self': '/api/objects/41610'}}, {'type': 'object', 'attributes': {'xSectMax': 23.657, 'vimpelId': None, 'xSectAvg': 13.5615, 'name': 'Starlink 1649', 'diameter': None, 'depth': 1.5, 'mass': 260.0, 'span': 8.86, 'cosparId': '2020-070W', 'satno': 46552, 'height': 0.1, 'width': 3.7, 'xSectMin': 0.2311, 'shape': 'Box + 1 Pan', 'objectClass': 'Payload'}, 'relationships': {'reentry': {'links': {'self': '/api/objects/64767/relationships/reentry', 'related': '/api/objects/64767/reentry'}}, 'operators': {'links': {'self': '/api/objects/64767/relationships/operators', 'related': '/api/objects/64767/operators'}}, 'launch': {'links': {'self': '/api/objects/64767/relationships/launch', 'related': '/api/objects/64767/launch'}}, 'destinationOrbits': {'links': {'self': '/api/objects/64767/relationships/destination-orbits', 'related': '/api/objects/64767/destination-orbits'}}, 'initialOrbits': {'links': {'self': '/api/objects/64767/relationships/initial-orbits', 'related': '/api/objects/64767/initial-orbits'}}, 'states': {'links': {'self': '/api/objects/64767/relationships/states', 'related': '/api/objects/64767/states'}}}, 'id': '64767', 'links': {'self': '/api/objects/64767'}}, {'type': 'object', 'attributes': {'xSectMax': 0.0489897948556636, 'vimpelId': None, 'xSectAvg': 0.04, 'name': 'Aoba-VELOX IV', 'diameter': None, 'depth': 0.2, 'mass': 3.0, 'span': 0.2, 'cosparId': '2019-003J', 'satno': 43940, 'height': 0.2, 'width': 0.1, 'xSectMin': 0.02, 'shape': 'Box + 2 Pan', 'objectClass': 'Payload'}, 'relationships': {'reentry': {'links': {'self': '/api/objects/57777/relationships/reentry', 'related': '/api/objects/57777/reentry'}}, 'operators': {'links': {'self': '/api/objects/57777/relationships/operators', 'related': '/api/objects/57777/operators'}}, 'launch': {'links': {'self': '/api/objects/57777/relationships/launch', 'related': '/api/objects/57777/launch'}}, 'destinationOrbits': {'links': {'self': '/api/objects/57777/relationships/destination-orbits', 'related': '/api/objects/57777/destination-orbits'}}, 'initialOrbits': {'links': {'self': '/api/objects/57777/relationships/initial-orbits', 'related': '/api/objects/57777/initial-orbits'}}, 'states': {'links': {'self': '/api/objects/57777/relationships/states', 'related': '/api/objects/57777/states'}}}, 'id': '57777', 'links': {'self': '/api/objects/57777'}}, {'type': 'object', 'attributes': {'xSectMax': 0.1911, 'vimpelId': None, 'xSectAvg': 0.1076, 'name': 'Flock 3m-1', 'diameter': None, 'depth': 0.1, 'mass': 4.7, 'span': 0.3, 'cosparId': '2017-068J', 'satno': 42995, 'height': 0.3, 'width': 0.1, 'xSectMin': 0.018, 'shape': 'Box + 2 Pan', 'objectClass': 'Payload'}, 'relationships': {'reentry': {'links': {'self': '/api/objects/47441/relationships/reentry', 'related': '/api/objects/47441/reentry'}}, 'operators': {'links': {'self': '/api/objects/47441/relationships/operators', 'related': '/api/objects/47441/operators'}}, 'launch': {'links': {'self': '/api/objects/47441/relationships/launch', 'related': '/api/objects/47441/launch'}}, 'destinationOrbits': {'links': {'self': '/api/objects/47441/relationships/destination-orbits', 'related': '/api/objects/47441/destination-orbits'}}, 'initialOrbits': {'links': {'self': '/api/objects/47441/relationships/initial-orbits', 'related': '/api/objects/47441/initial-orbits'}}, 'states': {'links': {'self': '/api/objects/47441/relationships/states', 'related': '/api/objects/47441/states'}}}, 'id': '47441', 'links': {'self': '/api/objects/47441'}}, {'type': 'object', 'attributes': {'xSectMax': 23.657, 'vimpelId': None, 'xSectAvg': 13.5615, 'name': 'Starlink 5083', 'diameter': None, 'depth': 1.5, 'mass': 260.0, 'span': 8.86, 'cosparId': '2023-013AB', 'satno': 55356, 'height': 0.1, 'width': 3.7, 'xSectMin': 0.2311, 'shape': 'Box + 1 Pan', 'objectClass': 'Payload'}, 'relationships': {'reentry': {'links': {'self': '/api/objects/75901/relationships/reentry', 'related': '/api/objects/75901/reentry'}}, 'operators': {'links': {'self': '/api/objects/75901/relationships/operators', 'related': '/api/objects/75901/operators'}}, 'launch': {'links': {'self': '/api/objects/75901/relationships/launch', 'related': '/api/objects/75901/launch'}}, 'destinationOrbits': {'links': {'self': '/api/objects/75901/relationships/destination-orbits', 'related': '/api/objects/75901/destination-orbits'}}, 'initialOrbits': {'links': {'self': '/api/objects/75901/relationships/initial-orbits', 'related': '/api/objects/75901/initial-orbits'}}, 'states': {'links': {'self': '/api/objects/75901/relationships/states', 'related': '/api/objects/75901/states'}}}, 'id': '75901', 'links': {'self': '/api/objects/75901'}}, {'type': 'object', 'attributes': {'xSectMax': 0.0281, 'vimpelId': None, 'xSectAvg': 0.0156, 'name': 'SpaceBEE NZ-3', 'diameter': None, 'depth': 0.1, 'mass': 0.284, 'span': 0.9, 'cosparId': '2020-085K', 'satno': 46938, 'height': 0.025, 'width': 0.1, 'xSectMin': 0.0095, 'shape': 'Box + 2 Ant', 'objectClass': 'Payload'}, 'relationships': {'reentry': {'links': {'self': '/api/objects/65242/relationships/reentry', 'related': '/api/objects/65242/reentry'}}, 'operators': {'links': {'self': '/api/objects/65242/relationships/operators', 'related': '/api/objects/65242/operators'}}, 'launch': {'links': {'self': '/api/objects/65242/relationships/launch', 'related': '/api/objects/65242/launch'}}, 'destinationOrbits': {'links': {'self': '/api/objects/65242/relationships/destination-orbits', 'related': '/api/objects/65242/destination-orbits'}}, 'initialOrbits': {'links': {'self': '/api/objects/65242/relationships/initial-orbits', 'related': '/api/objects/65242/initial-orbits'}}, 'states': {'links': {'self': '/api/objects/65242/relationships/states', 'related': '/api/objects/65242/states'}}}, 'id': '65242', 'links': {'self': '/api/objects/65242'}}, {'type': 'object', 'attributes': {'xSectMax': 0.1911, 'vimpelId': None, 'xSectAvg': 0.1076, 'name': 'Flock 3p-33', 'diameter': None, 'depth': 0.1, 'mass': 4.7, 'span': 0.3, 'cosparId': '2017-008AU', 'satno': 41990, 'height': 0.3, 'width': 0.1, 'xSectMin': 0.018, 'shape': 'Box + 2 Pan', 'objectClass': 'Payload'}, 'relationships': {'reentry': {'links': {'self': '/api/objects/44872/relationships/reentry', 'related': '/api/objects/44872/reentry'}}, 'operators': {'links': {'self': '/api/objects/44872/relationships/operators', 'related': '/api/objects/44872/operators'}}, 'launch': {'links': {'self': '/api/objects/44872/relationships/launch', 'related': '/api/objects/44872/launch'}}, 'destinationOrbits': {'links': {'self': '/api/objects/44872/relationships/destination-orbits', 'related': '/api/objects/44872/destination-orbits'}}, 'initialOrbits': {'links': {'self': '/api/objects/44872/relationships/initial-orbits', 'related': '/api/objects/44872/initial-orbits'}}, 'states': {'links': {'self': '/api/objects/44872/relationships/states', 'related': '/api/objects/44872/states'}}}, 'id': '44872', 'links': {'self': '/api/objects/44872'}}, {'type': 'object', 'attributes': {'xSectMax': 0.1911, 'vimpelId': None, 'xSectAvg': 0.1076, 'name': 'Flock 3p-8', 'diameter': None, 'depth': 0.1, 'mass': 4.7, 'span': 0.3, 'cosparId': '2017-008D', 'satno': 41951, 'height': 0.3, 'width': 0.1, 'xSectMin': 0.018, 'shape': 'Box + 2 Pan', 'objectClass': 'Payload'}, 'relationships': {'reentry': {'links': {'self': '/api/objects/44798/relationships/reentry', 'related': '/api/objects/44798/reentry'}}, 'operators': {'links': {'self': '/api/objects/44798/relationships/operators', 'related': '/api/objects/44798/operators'}}, 'launch': {'links': {'self': '/api/objects/44798/relationships/launch', 'related': '/api/objects/44798/launch'}}, 'destinationOrbits': {'links': {'self': '/api/objects/44798/relationships/destination-orbits', 'related': '/api/objects/44798/destination-orbits'}}, 'initialOrbits': {'links': {'self': '/api/objects/44798/relationships/initial-orbits', 'related': '/api/objects/44798/initial-orbits'}}, 'states': {'links': {'self': '/api/objects/44798/relationships/states', 'related': '/api/objects/44798/states'}}}, 'id': '44798', 'links': {'self': '/api/objects/44798'}}], 'links': {'self': \"/api/objects?filter=eq(objectClass,Payload)%26gt(reentry.epoch,epoch:'2020-01-01')&sort=-reentry.epoch\", 'first': \"/api/objects?filter=eq(objectClass,Payload)%26gt(reentry.epoch,epoch:'2020-01-01')&sort=-reentry.epoch&page%5Bnumber%5D=1\", 'last': \"/api/objects?filter=eq(objectClass,Payload)%26gt(reentry.epoch,epoch:'2020-01-01')&sort=-reentry.epoch&page%5Bnumber%5D=30\", 'next': \"/api/objects?filter=eq(objectClass,Payload)%26gt(reentry.epoch,epoch:'2020-01-01')&sort=-reentry.epoch&page%5Bnumber%5D=2\", 'prev': None}, 'meta': {'pagination': {'totalPages': 30, 'currentPage': 1, 'pageSize': 30}}}\n"
          ]
        }
      ],
      "source": [
        "#Connection to data souce API\n",
        "URL = 'https://discosweb.esoc.esa.int'\n",
        "token = 'ImUwYzQ2YTk1LWIzODQtNDVlYi1hNjUzLTAzZjAxYzEwYjI5NSI.A2EkjCeiipEzbpiP1hybmPOAP3o'\n",
        "\n",
        "# Calling API and retriving data\n",
        "response = requests.get(\n",
        "    f'{URL}/api/objects',\n",
        "    headers={\n",
        "        'Authorization': f'Bearer {token}',\n",
        "        'DiscosWeb-Api-Version': '2',\n",
        "    },\n",
        "    params={\n",
        "        #Filtering data\n",
        "        'filter': \"eq(objectClass,Payload)&gt(reentry.epoch,epoch:'2020-01-01')\",\n",
        "        'sort': '-reentry.epoch',\n",
        "    },\n",
        ")\n",
        "\n",
        "doc = response.json()\n",
        "\n",
        "#checking data and outputing it\n",
        "if response.ok:\n",
        "    pprint('everything okay')\n",
        "    print(doc)\n",
        "else:\n",
        "\n",
        "    pprint(doc['errors'])"
      ]
    },
    {
      "cell_type": "markdown",
      "metadata": {
        "id": "zxdDk8qBDe1e"
      },
      "source": [
        "Full pull of data **TAKES A BIT TO RUN**"
      ]
    },
    {
      "cell_type": "code",
      "execution_count": 3,
      "metadata": {
        "id": "G_FCuzps0pgl"
      },
      "outputs": [],
      "source": [
        "#\"https://discosweb.esoc.esa.int/api/objects?filter=eq(objectClass,Payload)\"\n",
        "\n",
        "#response = response.get('https://discosweb.esoc.esa.int/api/objects?filter=eq(objectClass,Payload)')\n",
        "\n",
        "page = 1\n",
        "doc = {}\n",
        "\n",
        "while(page<263):# 262 total pages\n",
        "  response = requests.get(\n",
        "      f'{URL}/api/objects?page%5Bsize%5D=100&page%5Bnumber%5D={page}',\n",
        "      headers={\n",
        "          'Authorization': f'Bearer {token}',\n",
        "          'DiscosWeb-Api-Version': '2',\n",
        "      },\n",
        "      params={\n",
        "          'filter': \"and(cosparId=ne=null,mass=ne=null)\"\n",
        "      }\n",
        "  )\n",
        "  if response.status_code == 200:\n",
        "      data = response.json()\n",
        "      doc[page] = data\n",
        "  #else:\n",
        "      #print(f\"Error: {response.status_code}\")\n",
        "      #break\n",
        "\n",
        "  page += 1\n",
        "\n",
        "#print(doc)\n",
        "\n"
      ]
    },
    {
      "cell_type": "markdown",
      "metadata": {
        "id": "_LxlKx_1RFi4"
      },
      "source": [
        "### Converting response doc to a Dataframe"
      ]
    },
    {
      "cell_type": "code",
      "execution_count": 4,
      "metadata": {
        "colab": {
          "base_uri": "https://localhost:8080/",
          "height": 555
        },
        "id": "C2lpRaucL4fv",
        "outputId": "e6f4da13-c92f-42a9-a803-0ba6dad48435"
      },
      "outputs": [
        {
          "data": {
            "text/html": [
              "<div>\n",
              "<style scoped>\n",
              "    .dataframe tbody tr th:only-of-type {\n",
              "        vertical-align: middle;\n",
              "    }\n",
              "\n",
              "    .dataframe tbody tr th {\n",
              "        vertical-align: top;\n",
              "    }\n",
              "\n",
              "    .dataframe thead th {\n",
              "        text-align: right;\n",
              "    }\n",
              "</style>\n",
              "<table border=\"1\" class=\"dataframe\">\n",
              "  <thead>\n",
              "    <tr style=\"text-align: right;\">\n",
              "      <th></th>\n",
              "      <th>xSectMax</th>\n",
              "      <th>vimpelId</th>\n",
              "      <th>xSectAvg</th>\n",
              "      <th>name</th>\n",
              "      <th>diameter</th>\n",
              "      <th>depth</th>\n",
              "      <th>mass</th>\n",
              "      <th>span</th>\n",
              "      <th>cosparId</th>\n",
              "      <th>satno</th>\n",
              "      <th>height</th>\n",
              "      <th>width</th>\n",
              "      <th>xSectMin</th>\n",
              "      <th>shape</th>\n",
              "      <th>objectClass</th>\n",
              "    </tr>\n",
              "  </thead>\n",
              "  <tbody>\n",
              "    <tr>\n",
              "      <th>0</th>\n",
              "      <td>NaN</td>\n",
              "      <td>NaN</td>\n",
              "      <td>NaN</td>\n",
              "      <td>Agena D debris</td>\n",
              "      <td>NaN</td>\n",
              "      <td>NaN</td>\n",
              "      <td>16.17</td>\n",
              "      <td>NaN</td>\n",
              "      <td>1969-082DS</td>\n",
              "      <td>4312.0</td>\n",
              "      <td>NaN</td>\n",
              "      <td>NaN</td>\n",
              "      <td>NaN</td>\n",
              "      <td>None</td>\n",
              "      <td>Rocket Fragmentation Debris</td>\n",
              "    </tr>\n",
              "    <tr>\n",
              "      <th>1</th>\n",
              "      <td>NaN</td>\n",
              "      <td>NaN</td>\n",
              "      <td>NaN</td>\n",
              "      <td>NABEO 'Pride of Bavaria' (attached to Electron...</td>\n",
              "      <td>NaN</td>\n",
              "      <td>NaN</td>\n",
              "      <td>156.00</td>\n",
              "      <td>NaN</td>\n",
              "      <td>2018-088C</td>\n",
              "      <td>43692.0</td>\n",
              "      <td>NaN</td>\n",
              "      <td>NaN</td>\n",
              "      <td>NaN</td>\n",
              "      <td>None</td>\n",
              "      <td>Rocket Body</td>\n",
              "    </tr>\n",
              "    <tr>\n",
              "      <th>2</th>\n",
              "      <td>17.315551</td>\n",
              "      <td>NaN</td>\n",
              "      <td>8.984400</td>\n",
              "      <td>Beidou DW 24</td>\n",
              "      <td>NaN</td>\n",
              "      <td>1.7</td>\n",
              "      <td>1014.00</td>\n",
              "      <td>10.00</td>\n",
              "      <td>2017-069A</td>\n",
              "      <td>43001.0</td>\n",
              "      <td>2.20</td>\n",
              "      <td>1.7</td>\n",
              "      <td>2.890000</td>\n",
              "      <td>Box + 2 Pan</td>\n",
              "      <td>Payload</td>\n",
              "    </tr>\n",
              "    <tr>\n",
              "      <th>3</th>\n",
              "      <td>17.315551</td>\n",
              "      <td>NaN</td>\n",
              "      <td>8.984400</td>\n",
              "      <td>Beidou DW 25</td>\n",
              "      <td>NaN</td>\n",
              "      <td>1.7</td>\n",
              "      <td>1014.00</td>\n",
              "      <td>10.00</td>\n",
              "      <td>2017-069B</td>\n",
              "      <td>43002.0</td>\n",
              "      <td>2.20</td>\n",
              "      <td>1.7</td>\n",
              "      <td>2.890000</td>\n",
              "      <td>Box + 2 Pan</td>\n",
              "      <td>Payload</td>\n",
              "    </tr>\n",
              "    <tr>\n",
              "      <th>4</th>\n",
              "      <td>39.133681</td>\n",
              "      <td>NaN</td>\n",
              "      <td>33.764267</td>\n",
              "      <td>H-18 (Long March (CZ) YF) (Long March (CZ) 3B/...</td>\n",
              "      <td>3.0</td>\n",
              "      <td>NaN</td>\n",
              "      <td>2800.00</td>\n",
              "      <td>3.00</td>\n",
              "      <td>2017-069C</td>\n",
              "      <td>43003.0</td>\n",
              "      <td>12.83</td>\n",
              "      <td>NaN</td>\n",
              "      <td>7.068583</td>\n",
              "      <td>Cyl + 1 Nozzle</td>\n",
              "      <td>Rocket Body</td>\n",
              "    </tr>\n",
              "    <tr>\n",
              "      <th>...</th>\n",
              "      <td>...</td>\n",
              "      <td>...</td>\n",
              "      <td>...</td>\n",
              "      <td>...</td>\n",
              "      <td>...</td>\n",
              "      <td>...</td>\n",
              "      <td>...</td>\n",
              "      <td>...</td>\n",
              "      <td>...</td>\n",
              "      <td>...</td>\n",
              "      <td>...</td>\n",
              "      <td>...</td>\n",
              "      <td>...</td>\n",
              "      <td>...</td>\n",
              "      <td>...</td>\n",
              "    </tr>\n",
              "    <tr>\n",
              "      <th>2795</th>\n",
              "      <td>23.657000</td>\n",
              "      <td>NaN</td>\n",
              "      <td>13.561500</td>\n",
              "      <td>Starlink 1343</td>\n",
              "      <td>NaN</td>\n",
              "      <td>1.5</td>\n",
              "      <td>260.00</td>\n",
              "      <td>8.86</td>\n",
              "      <td>2020-025BF</td>\n",
              "      <td>45584.0</td>\n",
              "      <td>0.10</td>\n",
              "      <td>3.7</td>\n",
              "      <td>0.231100</td>\n",
              "      <td>Box + 1 Pan</td>\n",
              "      <td>Payload</td>\n",
              "    </tr>\n",
              "    <tr>\n",
              "      <th>2796</th>\n",
              "      <td>12.566371</td>\n",
              "      <td>NaN</td>\n",
              "      <td>8.217898</td>\n",
              "      <td>Briz-M auxiliary tank (DTB)</td>\n",
              "      <td>NaN</td>\n",
              "      <td>NaN</td>\n",
              "      <td>1000.00</td>\n",
              "      <td>NaN</td>\n",
              "      <td>2020-053D</td>\n",
              "      <td>45988.0</td>\n",
              "      <td>2.10</td>\n",
              "      <td>4.0</td>\n",
              "      <td>7.453606</td>\n",
              "      <td>Torus</td>\n",
              "      <td>Rocket Mission Related Object</td>\n",
              "    </tr>\n",
              "    <tr>\n",
              "      <th>2797</th>\n",
              "      <td>39.133681</td>\n",
              "      <td>NaN</td>\n",
              "      <td>33.764267</td>\n",
              "      <td>H-18 (Long March (CZ) YF) (Long March (CZ) 3B)</td>\n",
              "      <td>3.0</td>\n",
              "      <td>NaN</td>\n",
              "      <td>2800.00</td>\n",
              "      <td>3.00</td>\n",
              "      <td>2020-045B</td>\n",
              "      <td>45864.0</td>\n",
              "      <td>12.83</td>\n",
              "      <td>NaN</td>\n",
              "      <td>7.068583</td>\n",
              "      <td>Cyl + 1 Nozzle</td>\n",
              "      <td>Rocket Body</td>\n",
              "    </tr>\n",
              "    <tr>\n",
              "      <th>2798</th>\n",
              "      <td>0.043589</td>\n",
              "      <td>NaN</td>\n",
              "      <td>0.035000</td>\n",
              "      <td>AQT-D</td>\n",
              "      <td>NaN</td>\n",
              "      <td>0.1</td>\n",
              "      <td>3.00</td>\n",
              "      <td>NaN</td>\n",
              "      <td>1998-067QW</td>\n",
              "      <td>44791.0</td>\n",
              "      <td>0.30</td>\n",
              "      <td>0.1</td>\n",
              "      <td>0.010000</td>\n",
              "      <td>Box</td>\n",
              "      <td>Payload</td>\n",
              "    </tr>\n",
              "    <tr>\n",
              "      <th>2799</th>\n",
              "      <td>23.657000</td>\n",
              "      <td>NaN</td>\n",
              "      <td>13.561500</td>\n",
              "      <td>Starlink 1347</td>\n",
              "      <td>NaN</td>\n",
              "      <td>1.5</td>\n",
              "      <td>260.00</td>\n",
              "      <td>8.86</td>\n",
              "      <td>2020-025BH</td>\n",
              "      <td>45586.0</td>\n",
              "      <td>0.10</td>\n",
              "      <td>3.7</td>\n",
              "      <td>0.231100</td>\n",
              "      <td>Box + 1 Pan</td>\n",
              "      <td>Payload</td>\n",
              "    </tr>\n",
              "  </tbody>\n",
              "</table>\n",
              "<p>2800 rows × 15 columns</p>\n",
              "</div>"
            ],
            "text/plain": [
              "       xSectMax  vimpelId   xSectAvg  \\\n",
              "0           NaN       NaN        NaN   \n",
              "1           NaN       NaN        NaN   \n",
              "2     17.315551       NaN   8.984400   \n",
              "3     17.315551       NaN   8.984400   \n",
              "4     39.133681       NaN  33.764267   \n",
              "...         ...       ...        ...   \n",
              "2795  23.657000       NaN  13.561500   \n",
              "2796  12.566371       NaN   8.217898   \n",
              "2797  39.133681       NaN  33.764267   \n",
              "2798   0.043589       NaN   0.035000   \n",
              "2799  23.657000       NaN  13.561500   \n",
              "\n",
              "                                                   name  diameter  depth  \\\n",
              "0                                        Agena D debris       NaN    NaN   \n",
              "1     NABEO 'Pride of Bavaria' (attached to Electron...       NaN    NaN   \n",
              "2                                          Beidou DW 24       NaN    1.7   \n",
              "3                                          Beidou DW 25       NaN    1.7   \n",
              "4     H-18 (Long March (CZ) YF) (Long March (CZ) 3B/...       3.0    NaN   \n",
              "...                                                 ...       ...    ...   \n",
              "2795                                      Starlink 1343       NaN    1.5   \n",
              "2796                        Briz-M auxiliary tank (DTB)       NaN    NaN   \n",
              "2797     H-18 (Long March (CZ) YF) (Long March (CZ) 3B)       3.0    NaN   \n",
              "2798                                              AQT-D       NaN    0.1   \n",
              "2799                                      Starlink 1347       NaN    1.5   \n",
              "\n",
              "         mass   span    cosparId    satno  height  width  xSectMin  \\\n",
              "0       16.17    NaN  1969-082DS   4312.0     NaN    NaN       NaN   \n",
              "1      156.00    NaN   2018-088C  43692.0     NaN    NaN       NaN   \n",
              "2     1014.00  10.00   2017-069A  43001.0    2.20    1.7  2.890000   \n",
              "3     1014.00  10.00   2017-069B  43002.0    2.20    1.7  2.890000   \n",
              "4     2800.00   3.00   2017-069C  43003.0   12.83    NaN  7.068583   \n",
              "...       ...    ...         ...      ...     ...    ...       ...   \n",
              "2795   260.00   8.86  2020-025BF  45584.0    0.10    3.7  0.231100   \n",
              "2796  1000.00    NaN   2020-053D  45988.0    2.10    4.0  7.453606   \n",
              "2797  2800.00   3.00   2020-045B  45864.0   12.83    NaN  7.068583   \n",
              "2798     3.00    NaN  1998-067QW  44791.0    0.30    0.1  0.010000   \n",
              "2799   260.00   8.86  2020-025BH  45586.0    0.10    3.7  0.231100   \n",
              "\n",
              "               shape                    objectClass  \n",
              "0               None    Rocket Fragmentation Debris  \n",
              "1               None                    Rocket Body  \n",
              "2        Box + 2 Pan                        Payload  \n",
              "3        Box + 2 Pan                        Payload  \n",
              "4     Cyl + 1 Nozzle                    Rocket Body  \n",
              "...              ...                            ...  \n",
              "2795     Box + 1 Pan                        Payload  \n",
              "2796           Torus  Rocket Mission Related Object  \n",
              "2797  Cyl + 1 Nozzle                    Rocket Body  \n",
              "2798             Box                        Payload  \n",
              "2799     Box + 1 Pan                        Payload  \n",
              "\n",
              "[2800 rows x 15 columns]"
            ]
          },
          "execution_count": 4,
          "metadata": {},
          "output_type": "execute_result"
        }
      ],
      "source": [
        "data_list = [item['attributes'] for page_data in doc.values() for item in page_data['data']]\n",
        "\n",
        "df = pd.DataFrame(data_list)\n",
        "\n",
        "df\n",
        "\n"
      ]
    },
    {
      "cell_type": "markdown",
      "metadata": {
        "id": "nLMmmBW8l9n1"
      },
      "source": [
        "# Questions"
      ]
    },
    {
      "cell_type": "markdown",
      "metadata": {
        "id": "azDlK_zhmDRY"
      },
      "source": [
        "### What is the average Mass of the objects in orbit?"
      ]
    },
    {
      "cell_type": "markdown",
      "metadata": {
        "id": "Py7eI4KnmDAI"
      },
      "source": [
        "### What Object Class has the most entities?\n",
        "\n"
      ]
    },
    {
      "cell_type": "markdown",
      "metadata": {
        "id": "9GSC5PABmCnB"
      },
      "source": [
        "### What objects have the largest and smallest mass?"
      ]
    }
  ],
  "metadata": {
    "colab": {
      "provenance": []
    },
    "kernelspec": {
      "display_name": "Python 3",
      "name": "python3"
    },
    "language_info": {
      "codemirror_mode": {
        "name": "ipython",
        "version": 3
      },
      "file_extension": ".py",
      "mimetype": "text/x-python",
      "name": "python",
      "nbconvert_exporter": "python",
      "pygments_lexer": "ipython3",
      "version": "3.11.3"
    }
  },
  "nbformat": 4,
  "nbformat_minor": 0
}
